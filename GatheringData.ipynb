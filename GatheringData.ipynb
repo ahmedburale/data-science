{
 "cells": [
  {
   "metadata": {},
   "cell_type": "markdown",
   "source": "# Gathering Data",
   "id": "8a77807f92f26ee"
  },
  {
   "metadata": {
    "ExecuteTime": {
     "end_time": "2025-06-17T13:02:37.286533Z",
     "start_time": "2025-06-17T13:02:37.279282Z"
    }
   },
   "cell_type": "code",
   "source": [
    "# Import libraries\n",
    "import pandas as pd"
   ],
   "id": "7df9140457caed5e",
   "outputs": [],
   "execution_count": 2
  },
  {
   "metadata": {
    "ExecuteTime": {
     "end_time": "2025-06-17T13:17:31.713884Z",
     "start_time": "2025-06-17T13:17:31.695939Z"
    }
   },
   "cell_type": "code",
   "source": [
    "# Read from csv\n",
    "pd.read_csv('Data/course_offerings.csv', sep=',', header=0)"
   ],
   "id": "70668d8ce077f405",
   "outputs": [
    {
     "data": {
      "text/plain": [
       "   course_id                  course_name    instructor\n",
       "0        101              Intro to Python  Chris Bruehl\n",
       "1        102                 Intro to SQL   John Pauler\n",
       "2        201    Exploratory Data Analysis    Alice Zhao\n",
       "3        301                   Algorithms  Chris Bruehl\n",
       "4        331  Natural Language Processing    Alice Zhao"
      ],
      "text/html": [
       "<div>\n",
       "<style scoped>\n",
       "    .dataframe tbody tr th:only-of-type {\n",
       "        vertical-align: middle;\n",
       "    }\n",
       "\n",
       "    .dataframe tbody tr th {\n",
       "        vertical-align: top;\n",
       "    }\n",
       "\n",
       "    .dataframe thead th {\n",
       "        text-align: right;\n",
       "    }\n",
       "</style>\n",
       "<table border=\"1\" class=\"dataframe\">\n",
       "  <thead>\n",
       "    <tr style=\"text-align: right;\">\n",
       "      <th></th>\n",
       "      <th>course_id</th>\n",
       "      <th>course_name</th>\n",
       "      <th>instructor</th>\n",
       "    </tr>\n",
       "  </thead>\n",
       "  <tbody>\n",
       "    <tr>\n",
       "      <th>0</th>\n",
       "      <td>101</td>\n",
       "      <td>Intro to Python</td>\n",
       "      <td>Chris Bruehl</td>\n",
       "    </tr>\n",
       "    <tr>\n",
       "      <th>1</th>\n",
       "      <td>102</td>\n",
       "      <td>Intro to SQL</td>\n",
       "      <td>John Pauler</td>\n",
       "    </tr>\n",
       "    <tr>\n",
       "      <th>2</th>\n",
       "      <td>201</td>\n",
       "      <td>Exploratory Data Analysis</td>\n",
       "      <td>Alice Zhao</td>\n",
       "    </tr>\n",
       "    <tr>\n",
       "      <th>3</th>\n",
       "      <td>301</td>\n",
       "      <td>Algorithms</td>\n",
       "      <td>Chris Bruehl</td>\n",
       "    </tr>\n",
       "    <tr>\n",
       "      <th>4</th>\n",
       "      <td>331</td>\n",
       "      <td>Natural Language Processing</td>\n",
       "      <td>Alice Zhao</td>\n",
       "    </tr>\n",
       "  </tbody>\n",
       "</table>\n",
       "</div>"
      ]
     },
     "execution_count": 6,
     "metadata": {},
     "output_type": "execute_result"
    }
   ],
   "execution_count": 6
  },
  {
   "metadata": {
    "ExecuteTime": {
     "end_time": "2025-06-17T13:24:48.734751Z",
     "start_time": "2025-06-17T13:24:44.578383Z"
    }
   },
   "cell_type": "code",
   "source": [
    "# Read from excel\n",
    "pd.read_excel('Data/Course Offerings.xlsx')"
   ],
   "id": "373a1118409615ce",
   "outputs": [
    {
     "data": {
      "text/plain": [
       "     Instructor                    Title\n",
       "0  Chris Bruehl   Lead Python Instructor\n",
       "1   John Pauler     Chief Growth Officer\n",
       "2    Alice Zhao  Data Science Instructor"
      ],
      "text/html": [
       "<div>\n",
       "<style scoped>\n",
       "    .dataframe tbody tr th:only-of-type {\n",
       "        vertical-align: middle;\n",
       "    }\n",
       "\n",
       "    .dataframe tbody tr th {\n",
       "        vertical-align: top;\n",
       "    }\n",
       "\n",
       "    .dataframe thead th {\n",
       "        text-align: right;\n",
       "    }\n",
       "</style>\n",
       "<table border=\"1\" class=\"dataframe\">\n",
       "  <thead>\n",
       "    <tr style=\"text-align: right;\">\n",
       "      <th></th>\n",
       "      <th>Instructor</th>\n",
       "      <th>Title</th>\n",
       "    </tr>\n",
       "  </thead>\n",
       "  <tbody>\n",
       "    <tr>\n",
       "      <th>0</th>\n",
       "      <td>Chris Bruehl</td>\n",
       "      <td>Lead Python Instructor</td>\n",
       "    </tr>\n",
       "    <tr>\n",
       "      <th>1</th>\n",
       "      <td>John Pauler</td>\n",
       "      <td>Chief Growth Officer</td>\n",
       "    </tr>\n",
       "    <tr>\n",
       "      <th>2</th>\n",
       "      <td>Alice Zhao</td>\n",
       "      <td>Data Science Instructor</td>\n",
       "    </tr>\n",
       "  </tbody>\n",
       "</table>\n",
       "</div>"
      ]
     },
     "execution_count": 12,
     "metadata": {},
     "output_type": "execute_result"
    }
   ],
   "execution_count": 12
  },
  {
   "metadata": {
    "ExecuteTime": {
     "end_time": "2025-06-17T13:25:30.661796Z",
     "start_time": "2025-06-17T13:25:30.653391Z"
    }
   },
   "cell_type": "code",
   "source": [
    "# Connect to a sqlite database and read from sql\n",
    "import sqlite3"
   ],
   "id": "3ba4e8b7d60c66cb",
   "outputs": [],
   "execution_count": 13
  },
  {
   "metadata": {
    "ExecuteTime": {
     "end_time": "2025-06-17T13:26:05.672572Z",
     "start_time": "2025-06-17T13:26:05.661052Z"
    }
   },
   "cell_type": "code",
   "source": "conn = sqlite3.connect('Data/maven.db')",
   "id": "84d175352a63e624",
   "outputs": [],
   "execution_count": 14
  },
  {
   "metadata": {
    "ExecuteTime": {
     "end_time": "2025-06-17T13:26:39.158348Z",
     "start_time": "2025-06-17T13:26:39.131453Z"
    }
   },
   "cell_type": "code",
   "source": "pd.read_sql('SELECT * FROM courses', conn)",
   "id": "7ba9b11983028905",
   "outputs": [
    {
     "data": {
      "text/plain": [
       "   course_id                       course    instructor\n",
       "0        101              Intro to Python  Chris Bruehl\n",
       "1        102                 Intro to SQL   John Pauler\n",
       "2        201    Exploratory Data Analysis    Alice Zhao\n",
       "3        301                   Algorithms  Chris Bruehl\n",
       "4        331  Natural Language Processing    Alice Zhao"
      ],
      "text/html": [
       "<div>\n",
       "<style scoped>\n",
       "    .dataframe tbody tr th:only-of-type {\n",
       "        vertical-align: middle;\n",
       "    }\n",
       "\n",
       "    .dataframe tbody tr th {\n",
       "        vertical-align: top;\n",
       "    }\n",
       "\n",
       "    .dataframe thead th {\n",
       "        text-align: right;\n",
       "    }\n",
       "</style>\n",
       "<table border=\"1\" class=\"dataframe\">\n",
       "  <thead>\n",
       "    <tr style=\"text-align: right;\">\n",
       "      <th></th>\n",
       "      <th>course_id</th>\n",
       "      <th>course</th>\n",
       "      <th>instructor</th>\n",
       "    </tr>\n",
       "  </thead>\n",
       "  <tbody>\n",
       "    <tr>\n",
       "      <th>0</th>\n",
       "      <td>101</td>\n",
       "      <td>Intro to Python</td>\n",
       "      <td>Chris Bruehl</td>\n",
       "    </tr>\n",
       "    <tr>\n",
       "      <th>1</th>\n",
       "      <td>102</td>\n",
       "      <td>Intro to SQL</td>\n",
       "      <td>John Pauler</td>\n",
       "    </tr>\n",
       "    <tr>\n",
       "      <th>2</th>\n",
       "      <td>201</td>\n",
       "      <td>Exploratory Data Analysis</td>\n",
       "      <td>Alice Zhao</td>\n",
       "    </tr>\n",
       "    <tr>\n",
       "      <th>3</th>\n",
       "      <td>301</td>\n",
       "      <td>Algorithms</td>\n",
       "      <td>Chris Bruehl</td>\n",
       "    </tr>\n",
       "    <tr>\n",
       "      <th>4</th>\n",
       "      <td>331</td>\n",
       "      <td>Natural Language Processing</td>\n",
       "      <td>Alice Zhao</td>\n",
       "    </tr>\n",
       "  </tbody>\n",
       "</table>\n",
       "</div>"
      ]
     },
     "execution_count": 15,
     "metadata": {},
     "output_type": "execute_result"
    }
   ],
   "execution_count": 15
  },
  {
   "metadata": {},
   "cell_type": "code",
   "outputs": [],
   "execution_count": null,
   "source": "",
   "id": "86558c4840aac540"
  }
 ],
 "metadata": {
  "kernelspec": {
   "display_name": "Python 3",
   "language": "python",
   "name": "python3"
  },
  "language_info": {
   "codemirror_mode": {
    "name": "ipython",
    "version": 2
   },
   "file_extension": ".py",
   "mimetype": "text/x-python",
   "name": "python",
   "nbconvert_exporter": "python",
   "pygments_lexer": "ipython2",
   "version": "2.7.6"
  }
 },
 "nbformat": 4,
 "nbformat_minor": 5
}
