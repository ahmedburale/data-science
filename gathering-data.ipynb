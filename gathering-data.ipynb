{
 "cells": [
  {
   "metadata": {},
   "cell_type": "markdown",
   "source": [
    "# Gathering Data\n",
    "The data gathering process involves finding data, reading it into Python, transforming it if necessary, and storing the data in a Pandas DataFrame."
   ],
   "id": "8a77807f92f26ee"
  },
  {
   "metadata": {
    "ExecuteTime": {
     "end_time": "2025-06-17T13:55:45.703470Z",
     "start_time": "2025-06-17T13:55:44.212448Z"
    }
   },
   "cell_type": "code",
   "source": [
    "# Import libraries\n",
    "import pandas as pd"
   ],
   "id": "7df9140457caed5e",
   "outputs": [],
   "execution_count": 4
  },
  {
   "metadata": {
    "ExecuteTime": {
     "end_time": "2025-06-17T14:00:04.591979Z",
     "start_time": "2025-06-17T14:00:04.570639Z"
    }
   },
   "cell_type": "code",
   "source": [
    "# Read from csv\n",
    "df1 = pd.read_csv('Data/course_offerings.csv', sep=',', header=0)\n",
    "print(df)"
   ],
   "id": "70668d8ce077f405",
   "outputs": [
    {
     "name": "stdout",
     "output_type": "stream",
     "text": [
      "     Instructor                    Title\n",
      "0  Chris Bruehl   Lead Python Instructor\n",
      "1   John Pauler     Chief Growth Officer\n",
      "2    Alice Zhao  Data Science Instructor\n"
     ]
    }
   ],
   "execution_count": 28
  },
  {
   "metadata": {
    "ExecuteTime": {
     "end_time": "2025-06-17T14:00:13.294077Z",
     "start_time": "2025-06-17T14:00:13.260077Z"
    }
   },
   "cell_type": "code",
   "source": [
    "# Read from excel\n",
    "df2 = pd.read_excel('Data/Course Offerings.xlsx')\n",
    "print(df)"
   ],
   "id": "373a1118409615ce",
   "outputs": [
    {
     "name": "stdout",
     "output_type": "stream",
     "text": [
      "     Instructor                    Title\n",
      "0  Chris Bruehl   Lead Python Instructor\n",
      "1   John Pauler     Chief Growth Officer\n",
      "2    Alice Zhao  Data Science Instructor\n"
     ]
    }
   ],
   "execution_count": 29
  },
  {
   "metadata": {
    "ExecuteTime": {
     "end_time": "2025-06-17T13:57:34.478067Z",
     "start_time": "2025-06-17T13:57:34.469074Z"
    }
   },
   "cell_type": "code",
   "source": [
    "# Connect to a sqlite database and read from sql\n",
    "import sqlite3"
   ],
   "id": "3ba4e8b7d60c66cb",
   "outputs": [],
   "execution_count": 16
  },
  {
   "metadata": {
    "ExecuteTime": {
     "end_time": "2025-06-17T14:00:18.601070Z",
     "start_time": "2025-06-17T14:00:18.592674Z"
    }
   },
   "cell_type": "code",
   "source": "conn = sqlite3.connect('Data/maven.db')",
   "id": "84d175352a63e624",
   "outputs": [],
   "execution_count": 30
  },
  {
   "metadata": {
    "ExecuteTime": {
     "end_time": "2025-06-17T13:57:38.728286Z",
     "start_time": "2025-06-17T13:57:38.701452Z"
    }
   },
   "cell_type": "code",
   "source": "pd.read_sql('SELECT * FROM courses', conn)\n",
   "id": "7ba9b11983028905",
   "outputs": [
    {
     "data": {
      "text/plain": [
       "   course_id                       course    instructor\n",
       "0        101              Intro to Python  Chris Bruehl\n",
       "1        102                 Intro to SQL   John Pauler\n",
       "2        201    Exploratory Data Analysis    Alice Zhao\n",
       "3        301                   Algorithms  Chris Bruehl\n",
       "4        331  Natural Language Processing    Alice Zhao"
      ],
      "text/html": [
       "<div>\n",
       "<style scoped>\n",
       "    .dataframe tbody tr th:only-of-type {\n",
       "        vertical-align: middle;\n",
       "    }\n",
       "\n",
       "    .dataframe tbody tr th {\n",
       "        vertical-align: top;\n",
       "    }\n",
       "\n",
       "    .dataframe thead th {\n",
       "        text-align: right;\n",
       "    }\n",
       "</style>\n",
       "<table border=\"1\" class=\"dataframe\">\n",
       "  <thead>\n",
       "    <tr style=\"text-align: right;\">\n",
       "      <th></th>\n",
       "      <th>course_id</th>\n",
       "      <th>course</th>\n",
       "      <th>instructor</th>\n",
       "    </tr>\n",
       "  </thead>\n",
       "  <tbody>\n",
       "    <tr>\n",
       "      <th>0</th>\n",
       "      <td>101</td>\n",
       "      <td>Intro to Python</td>\n",
       "      <td>Chris Bruehl</td>\n",
       "    </tr>\n",
       "    <tr>\n",
       "      <th>1</th>\n",
       "      <td>102</td>\n",
       "      <td>Intro to SQL</td>\n",
       "      <td>John Pauler</td>\n",
       "    </tr>\n",
       "    <tr>\n",
       "      <th>2</th>\n",
       "      <td>201</td>\n",
       "      <td>Exploratory Data Analysis</td>\n",
       "      <td>Alice Zhao</td>\n",
       "    </tr>\n",
       "    <tr>\n",
       "      <th>3</th>\n",
       "      <td>301</td>\n",
       "      <td>Algorithms</td>\n",
       "      <td>Chris Bruehl</td>\n",
       "    </tr>\n",
       "    <tr>\n",
       "      <th>4</th>\n",
       "      <td>331</td>\n",
       "      <td>Natural Language Processing</td>\n",
       "      <td>Alice Zhao</td>\n",
       "    </tr>\n",
       "  </tbody>\n",
       "</table>\n",
       "</div>"
      ]
     },
     "execution_count": 18,
     "metadata": {},
     "output_type": "execute_result"
    }
   ],
   "execution_count": 18
  },
  {
   "metadata": {
    "ExecuteTime": {
     "end_time": "2025-06-17T13:58:48.049451Z",
     "start_time": "2025-06-17T13:58:48.037451Z"
    }
   },
   "cell_type": "code",
   "source": [
    "# Exploring dataframe\n",
    "df.head()"
   ],
   "id": "4c4bc82d7ad8629f",
   "outputs": [
    {
     "data": {
      "text/plain": [
       "     Instructor                    Title\n",
       "0  Chris Bruehl   Lead Python Instructor\n",
       "1   John Pauler     Chief Growth Officer\n",
       "2    Alice Zhao  Data Science Instructor"
      ],
      "text/html": [
       "<div>\n",
       "<style scoped>\n",
       "    .dataframe tbody tr th:only-of-type {\n",
       "        vertical-align: middle;\n",
       "    }\n",
       "\n",
       "    .dataframe tbody tr th {\n",
       "        vertical-align: top;\n",
       "    }\n",
       "\n",
       "    .dataframe thead th {\n",
       "        text-align: right;\n",
       "    }\n",
       "</style>\n",
       "<table border=\"1\" class=\"dataframe\">\n",
       "  <thead>\n",
       "    <tr style=\"text-align: right;\">\n",
       "      <th></th>\n",
       "      <th>Instructor</th>\n",
       "      <th>Title</th>\n",
       "    </tr>\n",
       "  </thead>\n",
       "  <tbody>\n",
       "    <tr>\n",
       "      <th>0</th>\n",
       "      <td>Chris Bruehl</td>\n",
       "      <td>Lead Python Instructor</td>\n",
       "    </tr>\n",
       "    <tr>\n",
       "      <th>1</th>\n",
       "      <td>John Pauler</td>\n",
       "      <td>Chief Growth Officer</td>\n",
       "    </tr>\n",
       "    <tr>\n",
       "      <th>2</th>\n",
       "      <td>Alice Zhao</td>\n",
       "      <td>Data Science Instructor</td>\n",
       "    </tr>\n",
       "  </tbody>\n",
       "</table>\n",
       "</div>"
      ]
     },
     "execution_count": 22,
     "metadata": {},
     "output_type": "execute_result"
    }
   ],
   "execution_count": 22
  },
  {
   "metadata": {
    "ExecuteTime": {
     "end_time": "2025-06-17T13:58:50.646760Z",
     "start_time": "2025-06-17T13:58:50.624237Z"
    }
   },
   "cell_type": "code",
   "source": "df.describe()",
   "id": "86558c4840aac540",
   "outputs": [
    {
     "data": {
      "text/plain": [
       "          Instructor                   Title\n",
       "count              3                       3\n",
       "unique             3                       3\n",
       "top     Chris Bruehl  Lead Python Instructor\n",
       "freq               1                       1"
      ],
      "text/html": [
       "<div>\n",
       "<style scoped>\n",
       "    .dataframe tbody tr th:only-of-type {\n",
       "        vertical-align: middle;\n",
       "    }\n",
       "\n",
       "    .dataframe tbody tr th {\n",
       "        vertical-align: top;\n",
       "    }\n",
       "\n",
       "    .dataframe thead th {\n",
       "        text-align: right;\n",
       "    }\n",
       "</style>\n",
       "<table border=\"1\" class=\"dataframe\">\n",
       "  <thead>\n",
       "    <tr style=\"text-align: right;\">\n",
       "      <th></th>\n",
       "      <th>Instructor</th>\n",
       "      <th>Title</th>\n",
       "    </tr>\n",
       "  </thead>\n",
       "  <tbody>\n",
       "    <tr>\n",
       "      <th>count</th>\n",
       "      <td>3</td>\n",
       "      <td>3</td>\n",
       "    </tr>\n",
       "    <tr>\n",
       "      <th>unique</th>\n",
       "      <td>3</td>\n",
       "      <td>3</td>\n",
       "    </tr>\n",
       "    <tr>\n",
       "      <th>top</th>\n",
       "      <td>Chris Bruehl</td>\n",
       "      <td>Lead Python Instructor</td>\n",
       "    </tr>\n",
       "    <tr>\n",
       "      <th>freq</th>\n",
       "      <td>1</td>\n",
       "      <td>1</td>\n",
       "    </tr>\n",
       "  </tbody>\n",
       "</table>\n",
       "</div>"
      ]
     },
     "execution_count": 23,
     "metadata": {},
     "output_type": "execute_result"
    }
   ],
   "execution_count": 23
  },
  {
   "metadata": {
    "ExecuteTime": {
     "end_time": "2025-06-17T13:59:09.680483Z",
     "start_time": "2025-06-17T13:59:09.665627Z"
    }
   },
   "cell_type": "code",
   "source": "df.count()",
   "id": "f96dc41e9a47e16b",
   "outputs": [
    {
     "data": {
      "text/plain": [
       "Instructor    3\n",
       "Title         3\n",
       "dtype: int64"
      ]
     },
     "execution_count": 24,
     "metadata": {},
     "output_type": "execute_result"
    }
   ],
   "execution_count": 24
  },
  {
   "metadata": {
    "ExecuteTime": {
     "end_time": "2025-06-17T13:59:17.667464Z",
     "start_time": "2025-06-17T13:59:17.651008Z"
    }
   },
   "cell_type": "code",
   "source": "df.info",
   "id": "52ae0129eb05f09f",
   "outputs": [
    {
     "data": {
      "text/plain": [
       "<bound method DataFrame.info of      Instructor                    Title\n",
       "0  Chris Bruehl   Lead Python Instructor\n",
       "1   John Pauler     Chief Growth Officer\n",
       "2    Alice Zhao  Data Science Instructor>"
      ]
     },
     "execution_count": 25,
     "metadata": {},
     "output_type": "execute_result"
    }
   ],
   "execution_count": 25
  },
  {
   "metadata": {
    "ExecuteTime": {
     "end_time": "2025-06-17T14:11:22.263448Z",
     "start_time": "2025-06-17T14:11:22.256181Z"
    }
   },
   "cell_type": "code",
   "source": "df.shape",
   "id": "62269750665e367f",
   "outputs": [
    {
     "data": {
      "text/plain": [
       "(3, 2)"
      ]
     },
     "execution_count": 31,
     "metadata": {},
     "output_type": "execute_result"
    }
   ],
   "execution_count": 31
  },
  {
   "metadata": {},
   "cell_type": "markdown",
   "source": [
    "### Assignment: Read a file into Python\n",
    "#### Email from your Senior DS\n",
    "\n",
    "**Subject:** Welcome! Quick Data Check Task\n",
    "\n",
    "Hi, and welcome to the team!\n",
    "\n",
    "I've attached survey data on country-level happiness.\n",
    "Please load it in Python and confirm:\n",
    "\n",
    "    Total number of rows\n",
    "\n",
    "    Range of happiness scores\n",
    "\n",
    "We’ll review next steps after.\n",
    "Thanks,\n",
    "Anna"
   ],
   "id": "5f50170bcf7af499"
  },
  {
   "metadata": {
    "ExecuteTime": {
     "end_time": "2025-06-17T14:20:48.910158Z",
     "start_time": "2025-06-17T14:20:48.875629Z"
    }
   },
   "cell_type": "code",
   "source": [
    "# 1. Read the csv data\n",
    "pd.read_csv('Data/happiness_survey_data.csv')"
   ],
   "id": "e453a181d41f244e",
   "outputs": [
    {
     "data": {
      "text/plain": [
       "     country_name  year  happiness_score  social_support  \\\n",
       "0     Afghanistan  2008         3.723590        0.450662   \n",
       "1     Afghanistan  2009         4.401778        0.552308   \n",
       "2     Afghanistan  2010         4.758381        0.539075   \n",
       "3     Afghanistan  2011         3.831719        0.521104   \n",
       "4     Afghanistan  2012         3.782938        0.520637   \n",
       "...           ...   ...              ...             ...   \n",
       "2084     Zimbabwe  2017         3.638300        0.754147   \n",
       "2085     Zimbabwe  2018         3.616480        0.775388   \n",
       "2086     Zimbabwe  2019         2.693523        0.759162   \n",
       "2087     Zimbabwe  2020         3.159802        0.717243   \n",
       "2088     Zimbabwe  2021         3.154578        0.685151   \n",
       "\n",
       "      freedom_to_make_life_choices  healthy_life_expectancy_at_birth  \n",
       "0                         0.718114                         50.500000  \n",
       "1                         0.678896                         50.799999  \n",
       "2                         0.600127                         51.099998  \n",
       "3                         0.495901                         51.400002  \n",
       "4                         0.530935                         51.700001  \n",
       "...                            ...                               ...  \n",
       "2084                      0.752826                         52.150002  \n",
       "2085                      0.762675                         52.625000  \n",
       "2086                      0.631908                         53.099998  \n",
       "2087                      0.643303                         53.575001  \n",
       "2088                      0.667636                         54.049999  \n",
       "\n",
       "[2089 rows x 6 columns]"
      ],
      "text/html": [
       "<div>\n",
       "<style scoped>\n",
       "    .dataframe tbody tr th:only-of-type {\n",
       "        vertical-align: middle;\n",
       "    }\n",
       "\n",
       "    .dataframe tbody tr th {\n",
       "        vertical-align: top;\n",
       "    }\n",
       "\n",
       "    .dataframe thead th {\n",
       "        text-align: right;\n",
       "    }\n",
       "</style>\n",
       "<table border=\"1\" class=\"dataframe\">\n",
       "  <thead>\n",
       "    <tr style=\"text-align: right;\">\n",
       "      <th></th>\n",
       "      <th>country_name</th>\n",
       "      <th>year</th>\n",
       "      <th>happiness_score</th>\n",
       "      <th>social_support</th>\n",
       "      <th>freedom_to_make_life_choices</th>\n",
       "      <th>healthy_life_expectancy_at_birth</th>\n",
       "    </tr>\n",
       "  </thead>\n",
       "  <tbody>\n",
       "    <tr>\n",
       "      <th>0</th>\n",
       "      <td>Afghanistan</td>\n",
       "      <td>2008</td>\n",
       "      <td>3.723590</td>\n",
       "      <td>0.450662</td>\n",
       "      <td>0.718114</td>\n",
       "      <td>50.500000</td>\n",
       "    </tr>\n",
       "    <tr>\n",
       "      <th>1</th>\n",
       "      <td>Afghanistan</td>\n",
       "      <td>2009</td>\n",
       "      <td>4.401778</td>\n",
       "      <td>0.552308</td>\n",
       "      <td>0.678896</td>\n",
       "      <td>50.799999</td>\n",
       "    </tr>\n",
       "    <tr>\n",
       "      <th>2</th>\n",
       "      <td>Afghanistan</td>\n",
       "      <td>2010</td>\n",
       "      <td>4.758381</td>\n",
       "      <td>0.539075</td>\n",
       "      <td>0.600127</td>\n",
       "      <td>51.099998</td>\n",
       "    </tr>\n",
       "    <tr>\n",
       "      <th>3</th>\n",
       "      <td>Afghanistan</td>\n",
       "      <td>2011</td>\n",
       "      <td>3.831719</td>\n",
       "      <td>0.521104</td>\n",
       "      <td>0.495901</td>\n",
       "      <td>51.400002</td>\n",
       "    </tr>\n",
       "    <tr>\n",
       "      <th>4</th>\n",
       "      <td>Afghanistan</td>\n",
       "      <td>2012</td>\n",
       "      <td>3.782938</td>\n",
       "      <td>0.520637</td>\n",
       "      <td>0.530935</td>\n",
       "      <td>51.700001</td>\n",
       "    </tr>\n",
       "    <tr>\n",
       "      <th>...</th>\n",
       "      <td>...</td>\n",
       "      <td>...</td>\n",
       "      <td>...</td>\n",
       "      <td>...</td>\n",
       "      <td>...</td>\n",
       "      <td>...</td>\n",
       "    </tr>\n",
       "    <tr>\n",
       "      <th>2084</th>\n",
       "      <td>Zimbabwe</td>\n",
       "      <td>2017</td>\n",
       "      <td>3.638300</td>\n",
       "      <td>0.754147</td>\n",
       "      <td>0.752826</td>\n",
       "      <td>52.150002</td>\n",
       "    </tr>\n",
       "    <tr>\n",
       "      <th>2085</th>\n",
       "      <td>Zimbabwe</td>\n",
       "      <td>2018</td>\n",
       "      <td>3.616480</td>\n",
       "      <td>0.775388</td>\n",
       "      <td>0.762675</td>\n",
       "      <td>52.625000</td>\n",
       "    </tr>\n",
       "    <tr>\n",
       "      <th>2086</th>\n",
       "      <td>Zimbabwe</td>\n",
       "      <td>2019</td>\n",
       "      <td>2.693523</td>\n",
       "      <td>0.759162</td>\n",
       "      <td>0.631908</td>\n",
       "      <td>53.099998</td>\n",
       "    </tr>\n",
       "    <tr>\n",
       "      <th>2087</th>\n",
       "      <td>Zimbabwe</td>\n",
       "      <td>2020</td>\n",
       "      <td>3.159802</td>\n",
       "      <td>0.717243</td>\n",
       "      <td>0.643303</td>\n",
       "      <td>53.575001</td>\n",
       "    </tr>\n",
       "    <tr>\n",
       "      <th>2088</th>\n",
       "      <td>Zimbabwe</td>\n",
       "      <td>2021</td>\n",
       "      <td>3.154578</td>\n",
       "      <td>0.685151</td>\n",
       "      <td>0.667636</td>\n",
       "      <td>54.049999</td>\n",
       "    </tr>\n",
       "  </tbody>\n",
       "</table>\n",
       "<p>2089 rows × 6 columns</p>\n",
       "</div>"
      ]
     },
     "execution_count": 37,
     "metadata": {},
     "output_type": "execute_result"
    }
   ],
   "execution_count": 37
  },
  {
   "metadata": {
    "ExecuteTime": {
     "end_time": "2025-06-17T14:21:24.820736Z",
     "start_time": "2025-06-17T14:21:24.763345Z"
    }
   },
   "cell_type": "code",
   "source": [
    "# 2. Store the data in a DataFrame\n",
    "df = pd.read_csv('Data/happiness_survey_data.csv')\n",
    "df"
   ],
   "id": "a518a4443c6312e7",
   "outputs": [
    {
     "data": {
      "text/plain": [
       "     country_name  year  happiness_score  social_support  \\\n",
       "0     Afghanistan  2008         3.723590        0.450662   \n",
       "1     Afghanistan  2009         4.401778        0.552308   \n",
       "2     Afghanistan  2010         4.758381        0.539075   \n",
       "3     Afghanistan  2011         3.831719        0.521104   \n",
       "4     Afghanistan  2012         3.782938        0.520637   \n",
       "...           ...   ...              ...             ...   \n",
       "2084     Zimbabwe  2017         3.638300        0.754147   \n",
       "2085     Zimbabwe  2018         3.616480        0.775388   \n",
       "2086     Zimbabwe  2019         2.693523        0.759162   \n",
       "2087     Zimbabwe  2020         3.159802        0.717243   \n",
       "2088     Zimbabwe  2021         3.154578        0.685151   \n",
       "\n",
       "      freedom_to_make_life_choices  healthy_life_expectancy_at_birth  \n",
       "0                         0.718114                         50.500000  \n",
       "1                         0.678896                         50.799999  \n",
       "2                         0.600127                         51.099998  \n",
       "3                         0.495901                         51.400002  \n",
       "4                         0.530935                         51.700001  \n",
       "...                            ...                               ...  \n",
       "2084                      0.752826                         52.150002  \n",
       "2085                      0.762675                         52.625000  \n",
       "2086                      0.631908                         53.099998  \n",
       "2087                      0.643303                         53.575001  \n",
       "2088                      0.667636                         54.049999  \n",
       "\n",
       "[2089 rows x 6 columns]"
      ],
      "text/html": [
       "<div>\n",
       "<style scoped>\n",
       "    .dataframe tbody tr th:only-of-type {\n",
       "        vertical-align: middle;\n",
       "    }\n",
       "\n",
       "    .dataframe tbody tr th {\n",
       "        vertical-align: top;\n",
       "    }\n",
       "\n",
       "    .dataframe thead th {\n",
       "        text-align: right;\n",
       "    }\n",
       "</style>\n",
       "<table border=\"1\" class=\"dataframe\">\n",
       "  <thead>\n",
       "    <tr style=\"text-align: right;\">\n",
       "      <th></th>\n",
       "      <th>country_name</th>\n",
       "      <th>year</th>\n",
       "      <th>happiness_score</th>\n",
       "      <th>social_support</th>\n",
       "      <th>freedom_to_make_life_choices</th>\n",
       "      <th>healthy_life_expectancy_at_birth</th>\n",
       "    </tr>\n",
       "  </thead>\n",
       "  <tbody>\n",
       "    <tr>\n",
       "      <th>0</th>\n",
       "      <td>Afghanistan</td>\n",
       "      <td>2008</td>\n",
       "      <td>3.723590</td>\n",
       "      <td>0.450662</td>\n",
       "      <td>0.718114</td>\n",
       "      <td>50.500000</td>\n",
       "    </tr>\n",
       "    <tr>\n",
       "      <th>1</th>\n",
       "      <td>Afghanistan</td>\n",
       "      <td>2009</td>\n",
       "      <td>4.401778</td>\n",
       "      <td>0.552308</td>\n",
       "      <td>0.678896</td>\n",
       "      <td>50.799999</td>\n",
       "    </tr>\n",
       "    <tr>\n",
       "      <th>2</th>\n",
       "      <td>Afghanistan</td>\n",
       "      <td>2010</td>\n",
       "      <td>4.758381</td>\n",
       "      <td>0.539075</td>\n",
       "      <td>0.600127</td>\n",
       "      <td>51.099998</td>\n",
       "    </tr>\n",
       "    <tr>\n",
       "      <th>3</th>\n",
       "      <td>Afghanistan</td>\n",
       "      <td>2011</td>\n",
       "      <td>3.831719</td>\n",
       "      <td>0.521104</td>\n",
       "      <td>0.495901</td>\n",
       "      <td>51.400002</td>\n",
       "    </tr>\n",
       "    <tr>\n",
       "      <th>4</th>\n",
       "      <td>Afghanistan</td>\n",
       "      <td>2012</td>\n",
       "      <td>3.782938</td>\n",
       "      <td>0.520637</td>\n",
       "      <td>0.530935</td>\n",
       "      <td>51.700001</td>\n",
       "    </tr>\n",
       "    <tr>\n",
       "      <th>...</th>\n",
       "      <td>...</td>\n",
       "      <td>...</td>\n",
       "      <td>...</td>\n",
       "      <td>...</td>\n",
       "      <td>...</td>\n",
       "      <td>...</td>\n",
       "    </tr>\n",
       "    <tr>\n",
       "      <th>2084</th>\n",
       "      <td>Zimbabwe</td>\n",
       "      <td>2017</td>\n",
       "      <td>3.638300</td>\n",
       "      <td>0.754147</td>\n",
       "      <td>0.752826</td>\n",
       "      <td>52.150002</td>\n",
       "    </tr>\n",
       "    <tr>\n",
       "      <th>2085</th>\n",
       "      <td>Zimbabwe</td>\n",
       "      <td>2018</td>\n",
       "      <td>3.616480</td>\n",
       "      <td>0.775388</td>\n",
       "      <td>0.762675</td>\n",
       "      <td>52.625000</td>\n",
       "    </tr>\n",
       "    <tr>\n",
       "      <th>2086</th>\n",
       "      <td>Zimbabwe</td>\n",
       "      <td>2019</td>\n",
       "      <td>2.693523</td>\n",
       "      <td>0.759162</td>\n",
       "      <td>0.631908</td>\n",
       "      <td>53.099998</td>\n",
       "    </tr>\n",
       "    <tr>\n",
       "      <th>2087</th>\n",
       "      <td>Zimbabwe</td>\n",
       "      <td>2020</td>\n",
       "      <td>3.159802</td>\n",
       "      <td>0.717243</td>\n",
       "      <td>0.643303</td>\n",
       "      <td>53.575001</td>\n",
       "    </tr>\n",
       "    <tr>\n",
       "      <th>2088</th>\n",
       "      <td>Zimbabwe</td>\n",
       "      <td>2021</td>\n",
       "      <td>3.154578</td>\n",
       "      <td>0.685151</td>\n",
       "      <td>0.667636</td>\n",
       "      <td>54.049999</td>\n",
       "    </tr>\n",
       "  </tbody>\n",
       "</table>\n",
       "<p>2089 rows × 6 columns</p>\n",
       "</div>"
      ]
     },
     "execution_count": 39,
     "metadata": {},
     "output_type": "execute_result"
    }
   ],
   "execution_count": 39
  },
  {
   "metadata": {
    "ExecuteTime": {
     "end_time": "2025-06-17T14:21:45.149737Z",
     "start_time": "2025-06-17T14:21:45.130684Z"
    }
   },
   "cell_type": "code",
   "source": [
    "# 3. Explore the data in the DataFrame\n",
    "df.head()"
   ],
   "id": "a339aaa5f62bec80",
   "outputs": [
    {
     "data": {
      "text/plain": [
       "  country_name  year  happiness_score  social_support  \\\n",
       "0  Afghanistan  2008         3.723590        0.450662   \n",
       "1  Afghanistan  2009         4.401778        0.552308   \n",
       "2  Afghanistan  2010         4.758381        0.539075   \n",
       "3  Afghanistan  2011         3.831719        0.521104   \n",
       "4  Afghanistan  2012         3.782938        0.520637   \n",
       "\n",
       "   freedom_to_make_life_choices  healthy_life_expectancy_at_birth  \n",
       "0                      0.718114                         50.500000  \n",
       "1                      0.678896                         50.799999  \n",
       "2                      0.600127                         51.099998  \n",
       "3                      0.495901                         51.400002  \n",
       "4                      0.530935                         51.700001  "
      ],
      "text/html": [
       "<div>\n",
       "<style scoped>\n",
       "    .dataframe tbody tr th:only-of-type {\n",
       "        vertical-align: middle;\n",
       "    }\n",
       "\n",
       "    .dataframe tbody tr th {\n",
       "        vertical-align: top;\n",
       "    }\n",
       "\n",
       "    .dataframe thead th {\n",
       "        text-align: right;\n",
       "    }\n",
       "</style>\n",
       "<table border=\"1\" class=\"dataframe\">\n",
       "  <thead>\n",
       "    <tr style=\"text-align: right;\">\n",
       "      <th></th>\n",
       "      <th>country_name</th>\n",
       "      <th>year</th>\n",
       "      <th>happiness_score</th>\n",
       "      <th>social_support</th>\n",
       "      <th>freedom_to_make_life_choices</th>\n",
       "      <th>healthy_life_expectancy_at_birth</th>\n",
       "    </tr>\n",
       "  </thead>\n",
       "  <tbody>\n",
       "    <tr>\n",
       "      <th>0</th>\n",
       "      <td>Afghanistan</td>\n",
       "      <td>2008</td>\n",
       "      <td>3.723590</td>\n",
       "      <td>0.450662</td>\n",
       "      <td>0.718114</td>\n",
       "      <td>50.500000</td>\n",
       "    </tr>\n",
       "    <tr>\n",
       "      <th>1</th>\n",
       "      <td>Afghanistan</td>\n",
       "      <td>2009</td>\n",
       "      <td>4.401778</td>\n",
       "      <td>0.552308</td>\n",
       "      <td>0.678896</td>\n",
       "      <td>50.799999</td>\n",
       "    </tr>\n",
       "    <tr>\n",
       "      <th>2</th>\n",
       "      <td>Afghanistan</td>\n",
       "      <td>2010</td>\n",
       "      <td>4.758381</td>\n",
       "      <td>0.539075</td>\n",
       "      <td>0.600127</td>\n",
       "      <td>51.099998</td>\n",
       "    </tr>\n",
       "    <tr>\n",
       "      <th>3</th>\n",
       "      <td>Afghanistan</td>\n",
       "      <td>2011</td>\n",
       "      <td>3.831719</td>\n",
       "      <td>0.521104</td>\n",
       "      <td>0.495901</td>\n",
       "      <td>51.400002</td>\n",
       "    </tr>\n",
       "    <tr>\n",
       "      <th>4</th>\n",
       "      <td>Afghanistan</td>\n",
       "      <td>2012</td>\n",
       "      <td>3.782938</td>\n",
       "      <td>0.520637</td>\n",
       "      <td>0.530935</td>\n",
       "      <td>51.700001</td>\n",
       "    </tr>\n",
       "  </tbody>\n",
       "</table>\n",
       "</div>"
      ]
     },
     "execution_count": 40,
     "metadata": {},
     "output_type": "execute_result"
    }
   ],
   "execution_count": 40
  },
  {
   "metadata": {
    "ExecuteTime": {
     "end_time": "2025-06-17T14:22:01.161999Z",
     "start_time": "2025-06-17T14:22:01.146935Z"
    }
   },
   "cell_type": "code",
   "source": "df.shape",
   "id": "a26cf55e8d3ecc0e",
   "outputs": [
    {
     "data": {
      "text/plain": [
       "(2089, 6)"
      ]
     },
     "execution_count": 41,
     "metadata": {},
     "output_type": "execute_result"
    }
   ],
   "execution_count": 41
  },
  {
   "metadata": {
    "ExecuteTime": {
     "end_time": "2025-06-17T14:22:20.592893Z",
     "start_time": "2025-06-17T14:22:20.542878Z"
    }
   },
   "cell_type": "code",
   "source": "df.describe()",
   "id": "c5f934b4d19d720b",
   "outputs": [
    {
     "data": {
      "text/plain": [
       "              year  happiness_score  social_support  \\\n",
       "count  2089.000000      2089.000000     2076.000000   \n",
       "mean   2013.727621         5.473747        0.811542   \n",
       "std       4.455614         1.115567        0.118935   \n",
       "min    2005.000000         2.178809        0.290184   \n",
       "25%    2010.000000         4.651972        0.747664   \n",
       "50%    2014.000000         5.405246        0.834770   \n",
       "75%    2017.000000         6.294282        0.904682   \n",
       "max    2021.000000         8.018934        0.987343   \n",
       "\n",
       "       freedom_to_make_life_choices  healthy_life_expectancy_at_birth  \n",
       "count                   2057.000000                       2031.000000  \n",
       "mean                       0.745462                         63.180326  \n",
       "std                        0.140751                          6.948546  \n",
       "min                        0.257534                          6.720000  \n",
       "25%                        0.651689                         58.965000  \n",
       "50%                        0.767357                         64.980003  \n",
       "75%                        0.857677                         68.362499  \n",
       "max                        0.985178                         74.349998  "
      ],
      "text/html": [
       "<div>\n",
       "<style scoped>\n",
       "    .dataframe tbody tr th:only-of-type {\n",
       "        vertical-align: middle;\n",
       "    }\n",
       "\n",
       "    .dataframe tbody tr th {\n",
       "        vertical-align: top;\n",
       "    }\n",
       "\n",
       "    .dataframe thead th {\n",
       "        text-align: right;\n",
       "    }\n",
       "</style>\n",
       "<table border=\"1\" class=\"dataframe\">\n",
       "  <thead>\n",
       "    <tr style=\"text-align: right;\">\n",
       "      <th></th>\n",
       "      <th>year</th>\n",
       "      <th>happiness_score</th>\n",
       "      <th>social_support</th>\n",
       "      <th>freedom_to_make_life_choices</th>\n",
       "      <th>healthy_life_expectancy_at_birth</th>\n",
       "    </tr>\n",
       "  </thead>\n",
       "  <tbody>\n",
       "    <tr>\n",
       "      <th>count</th>\n",
       "      <td>2089.000000</td>\n",
       "      <td>2089.000000</td>\n",
       "      <td>2076.000000</td>\n",
       "      <td>2057.000000</td>\n",
       "      <td>2031.000000</td>\n",
       "    </tr>\n",
       "    <tr>\n",
       "      <th>mean</th>\n",
       "      <td>2013.727621</td>\n",
       "      <td>5.473747</td>\n",
       "      <td>0.811542</td>\n",
       "      <td>0.745462</td>\n",
       "      <td>63.180326</td>\n",
       "    </tr>\n",
       "    <tr>\n",
       "      <th>std</th>\n",
       "      <td>4.455614</td>\n",
       "      <td>1.115567</td>\n",
       "      <td>0.118935</td>\n",
       "      <td>0.140751</td>\n",
       "      <td>6.948546</td>\n",
       "    </tr>\n",
       "    <tr>\n",
       "      <th>min</th>\n",
       "      <td>2005.000000</td>\n",
       "      <td>2.178809</td>\n",
       "      <td>0.290184</td>\n",
       "      <td>0.257534</td>\n",
       "      <td>6.720000</td>\n",
       "    </tr>\n",
       "    <tr>\n",
       "      <th>25%</th>\n",
       "      <td>2010.000000</td>\n",
       "      <td>4.651972</td>\n",
       "      <td>0.747664</td>\n",
       "      <td>0.651689</td>\n",
       "      <td>58.965000</td>\n",
       "    </tr>\n",
       "    <tr>\n",
       "      <th>50%</th>\n",
       "      <td>2014.000000</td>\n",
       "      <td>5.405246</td>\n",
       "      <td>0.834770</td>\n",
       "      <td>0.767357</td>\n",
       "      <td>64.980003</td>\n",
       "    </tr>\n",
       "    <tr>\n",
       "      <th>75%</th>\n",
       "      <td>2017.000000</td>\n",
       "      <td>6.294282</td>\n",
       "      <td>0.904682</td>\n",
       "      <td>0.857677</td>\n",
       "      <td>68.362499</td>\n",
       "    </tr>\n",
       "    <tr>\n",
       "      <th>max</th>\n",
       "      <td>2021.000000</td>\n",
       "      <td>8.018934</td>\n",
       "      <td>0.987343</td>\n",
       "      <td>0.985178</td>\n",
       "      <td>74.349998</td>\n",
       "    </tr>\n",
       "  </tbody>\n",
       "</table>\n",
       "</div>"
      ]
     },
     "execution_count": 42,
     "metadata": {},
     "output_type": "execute_result"
    }
   ],
   "execution_count": 42
  },
  {
   "metadata": {
    "ExecuteTime": {
     "end_time": "2025-06-17T14:22:31.595671Z",
     "start_time": "2025-06-17T14:22:31.547568Z"
    }
   },
   "cell_type": "code",
   "source": "df.info()",
   "id": "4932067f9f0196d2",
   "outputs": [
    {
     "name": "stdout",
     "output_type": "stream",
     "text": [
      "<class 'pandas.core.frame.DataFrame'>\n",
      "RangeIndex: 2089 entries, 0 to 2088\n",
      "Data columns (total 6 columns):\n",
      " #   Column                            Non-Null Count  Dtype  \n",
      "---  ------                            --------------  -----  \n",
      " 0   country_name                      2089 non-null   object \n",
      " 1   year                              2089 non-null   int64  \n",
      " 2   happiness_score                   2089 non-null   float64\n",
      " 3   social_support                    2076 non-null   float64\n",
      " 4   freedom_to_make_life_choices      2057 non-null   float64\n",
      " 5   healthy_life_expectancy_at_birth  2031 non-null   float64\n",
      "dtypes: float64(4), int64(1), object(1)\n",
      "memory usage: 98.1+ KB\n"
     ]
    }
   ],
   "execution_count": 43
  }
 ],
 "metadata": {
  "kernelspec": {
   "display_name": "Python 3",
   "language": "python",
   "name": "python3"
  },
  "language_info": {
   "codemirror_mode": {
    "name": "ipython",
    "version": 2
   },
   "file_extension": ".py",
   "mimetype": "text/x-python",
   "name": "python",
   "nbconvert_exporter": "python",
   "pygments_lexer": "ipython2",
   "version": "2.7.6"
  }
 },
 "nbformat": 4,
 "nbformat_minor": 5
}
