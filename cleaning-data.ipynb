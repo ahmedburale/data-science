{
 "cells": [
  {
   "metadata": {},
   "cell_type": "markdown",
   "source": [
    "# Cleaning Data\n",
    "The steps for cleaning data, including converting columns tothe correct data type, handling data issues and creating new columns for analysis."
   ],
   "id": "2f9ccd68afa60a72"
  },
  {
   "metadata": {
    "ExecuteTime": {
     "end_time": "2025-06-17T14:09:42.651773Z",
     "start_time": "2025-06-17T14:09:41.727798Z"
    }
   },
   "cell_type": "code",
   "source": [
    "# Import libraries\n",
    "import pandas as pd"
   ],
   "id": "b5332af3599aa4be",
   "outputs": [],
   "execution_count": 2
  },
  {
   "metadata": {},
   "cell_type": "code",
   "outputs": [],
   "execution_count": null,
   "source": "df = pd.read_csv('')",
   "id": "30242f4543173507"
  }
 ],
 "metadata": {
  "kernelspec": {
   "display_name": "Python 3",
   "language": "python",
   "name": "python3"
  },
  "language_info": {
   "codemirror_mode": {
    "name": "ipython",
    "version": 2
   },
   "file_extension": ".py",
   "mimetype": "text/x-python",
   "name": "python",
   "nbconvert_exporter": "python",
   "pygments_lexer": "ipython2",
   "version": "2.7.6"
  }
 },
 "nbformat": 4,
 "nbformat_minor": 5
}
